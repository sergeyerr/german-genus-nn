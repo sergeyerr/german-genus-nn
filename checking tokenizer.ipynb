{
 "cells": [
  {
   "cell_type": "code",
   "execution_count": 59,
   "id": "255dd87e-e527-49ef-b638-0a5edfe8d104",
   "metadata": {},
   "outputs": [],
   "source": [
    "from torch import nn\n",
    "import torch"
   ]
  },
  {
   "cell_type": "code",
   "execution_count": 60,
   "id": "974adad9-8c8a-487d-94eb-fdb09fdc804d",
   "metadata": {},
   "outputs": [
    {
     "name": "stderr",
     "output_type": "stream",
     "text": [
      "Some weights of the model checkpoint at dbmdz/bert-base-german-uncased were not used when initializing BertModel: ['cls.predictions.transform.dense.weight', 'cls.predictions.transform.LayerNorm.weight', 'cls.seq_relationship.weight', 'cls.predictions.transform.dense.bias', 'cls.seq_relationship.bias', 'cls.predictions.transform.LayerNorm.bias', 'cls.predictions.bias', 'cls.predictions.decoder.weight']\n",
      "- This IS expected if you are initializing BertModel from the checkpoint of a model trained on another task or with another architecture (e.g. initializing a BertForSequenceClassification model from a BertForPreTraining model).\n",
      "- This IS NOT expected if you are initializing BertModel from the checkpoint of a model that you expect to be exactly identical (initializing a BertForSequenceClassification model from a BertForSequenceClassification model).\n"
     ]
    }
   ],
   "source": [
    "from transformers import AutoModel, AutoTokenizer\n",
    "\n",
    "tokenizer = AutoTokenizer.from_pretrained(\"dbmdz/bert-base-german-uncased\")\n",
    "model = AutoModel.from_pretrained(\"dbmdz/bert-base-german-uncased\")"
   ]
  },
  {
   "cell_type": "code",
   "execution_count": 61,
   "id": "05045b37-6d56-4d5c-b712-8042cdc14c37",
   "metadata": {},
   "outputs": [],
   "source": [
    "from read_data import read_data_sets\n",
    "dataset = read_data_sets()\n",
    "train = dataset.train\n",
    "val = dataset.validation"
   ]
  },
  {
   "cell_type": "code",
   "execution_count": 62,
   "id": "7bacd681-9a87-40bd-8fe2-03ec98ca3e18",
   "metadata": {},
   "outputs": [
    {
     "data": {
      "text/plain": [
       "['schwarz', '##burg', '##under']"
      ]
     },
     "execution_count": 62,
     "metadata": {},
     "output_type": "execute_result"
    }
   ],
   "source": [
    "tokenizer.tokenize(train.words[3])"
   ]
  },
  {
   "cell_type": "code",
   "execution_count": 63,
   "id": "6b07cb18-1df3-4b32-96e8-98f032757391",
   "metadata": {},
   "outputs": [
    {
     "data": {
      "text/plain": [
       "'magistratsamt'"
      ]
     },
     "execution_count": 63,
     "metadata": {},
     "output_type": "execute_result"
    }
   ],
   "source": [
    "train.words[0]"
   ]
  },
  {
   "cell_type": "code",
   "execution_count": 64,
   "id": "582778d5-c71a-4260-8a73-33f1cc8c2c44",
   "metadata": {},
   "outputs": [],
   "source": [
    "tokens = tokenizer.encode(train.words[3], return_tensors = \"pt\")"
   ]
  },
  {
   "cell_type": "code",
   "execution_count": 65,
   "id": "da5d016f-8f9e-43a5-a9d7-e0b2ea2196a4",
   "metadata": {},
   "outputs": [],
   "source": [
    "test = model(tokens)"
   ]
  },
  {
   "cell_type": "code",
   "execution_count": 23,
   "id": "963f79dd-502c-4ca9-a348-79cbf4db5590",
   "metadata": {},
   "outputs": [
    {
     "data": {
      "text/plain": [
       "torch.Size([1, 5, 768])"
      ]
     },
     "execution_count": 23,
     "metadata": {},
     "output_type": "execute_result"
    }
   ],
   "source": [
    "test['last_hidden_state'].shape"
   ]
  },
  {
   "cell_type": "code",
   "execution_count": 26,
   "id": "d07e8e37-8695-4d33-87f6-cc8364ad1be3",
   "metadata": {},
   "outputs": [
    {
     "data": {
      "text/plain": [
       "torch.Size([1, 768])"
      ]
     },
     "execution_count": 26,
     "metadata": {},
     "output_type": "execute_result"
    }
   ],
   "source": [
    "test['pooler_output'].shape"
   ]
  },
  {
   "cell_type": "code",
   "execution_count": 148,
   "id": "b2119a09-c03c-4754-ba3e-44ddd8bb7ce8",
   "metadata": {},
   "outputs": [],
   "source": [
    "class GenusBertOneMatr(nn.Module):\n",
    "    def __init__(self, hidden_size=768, num_heads = 1, genus_count = 3):\n",
    "        super(GenusBertOneMatr, self).__init__()\n",
    "        self.hidden_size = hidden_size\n",
    "        self.attn = nn.MultiheadAttention(hidden_size, num_heads, batch_first = True)\n",
    "        self.genus_embs = nn.Parameter(nn.init.normal_(torch.empty(1, genus_count, hidden_size))) # one vector per genus\n",
    "        \n",
    "        self.out = nn.Linear(self.hidden_size, 1) # projecting one vector per genus to logit \n",
    "        self.sigmoid = nn.Sigmoid()\n",
    "\n",
    "    def forward(self, input):\n",
    "        X, weights = self.attn(self.genus_embs, input, input) # 3 x hidden_size\n",
    "        return self.out(X), weights\n",
    "        \n",
    "        "
   ]
  },
  {
   "cell_type": "code",
   "execution_count": 149,
   "id": "fe15de58-1f86-4dba-9699-d88e24014b3d",
   "metadata": {},
   "outputs": [],
   "source": [
    "genus_model = GenusBertOneMatr()"
   ]
  },
  {
   "cell_type": "code",
   "execution_count": 150,
   "id": "99df6120-0c3f-4a09-96c2-0073f69772f5",
   "metadata": {},
   "outputs": [
    {
     "data": {
      "text/plain": [
       "(tensor([[[ 0.0048],\n",
       "          [-0.0560],\n",
       "          [-0.0171]]], grad_fn=<AddBackward0>),\n",
       " tensor([[[0.1424, 0.2137, 0.2742, 0.2269, 0.1428],\n",
       "          [0.2231, 0.1973, 0.1546, 0.2051, 0.2199],\n",
       "          [0.1701, 0.3033, 0.1826, 0.1774, 0.1667]]], grad_fn=<DivBackward0>))"
      ]
     },
     "execution_count": 150,
     "metadata": {},
     "output_type": "execute_result"
    }
   ],
   "source": [
    "genus_model(test['last_hidden_state'])"
   ]
  },
  {
   "cell_type": "code",
   "execution_count": 45,
   "id": "c9e428ca-2fca-4d7b-b32c-9948f36cf373",
   "metadata": {},
   "outputs": [
    {
     "data": {
      "text/plain": [
       "torch.Size([1, 5, 768])"
      ]
     },
     "execution_count": 45,
     "metadata": {},
     "output_type": "execute_result"
    }
   ],
   "source": [
    "test['last_hidden_state'].shape"
   ]
  },
  {
   "cell_type": "code",
   "execution_count": 66,
   "id": "cf839835-a0e1-4050-a8c3-017e719fa448",
   "metadata": {},
   "outputs": [],
   "source": [
    "tmp = nn.MultiheadAttention(768, 1)"
   ]
  },
  {
   "cell_type": "code",
   "execution_count": 68,
   "id": "3dcd4ff9-4cf6-42c5-8b49-f01656fa142b",
   "metadata": {},
   "outputs": [
    {
     "data": {
      "text/plain": [
       "(tensor([[[-0.6550,  0.1419,  0.2060,  ..., -0.5220,  0.0300, -0.1792],\n",
       "          [ 0.2017, -0.4177, -0.2337,  ...,  0.1948,  0.2709,  0.1184],\n",
       "          [ 0.3893, -0.0604,  0.1256,  ...,  0.1840,  0.3574,  0.2834],\n",
       "          [-0.0193, -0.2267, -0.4263,  ...,  0.2137,  0.5133,  0.2211],\n",
       "          [-0.6675,  0.1415,  0.2633,  ..., -0.5262,  0.0356, -0.1859]]],\n",
       "        grad_fn=<AddBackward0>),\n",
       " tensor([[[1.]],\n",
       " \n",
       "         [[1.]],\n",
       " \n",
       "         [[1.]],\n",
       " \n",
       "         [[1.]],\n",
       " \n",
       "         [[1.]]], grad_fn=<DivBackward0>))"
      ]
     },
     "execution_count": 68,
     "metadata": {},
     "output_type": "execute_result"
    }
   ],
   "source": [
    "x = test['last_hidden_state']\n",
    "tmp(x,x,x)"
   ]
  },
  {
   "cell_type": "code",
   "execution_count": null,
   "id": "d2168ebc-d6eb-4103-a55c-fb3e725b098f",
   "metadata": {},
   "outputs": [],
   "source": []
  }
 ],
 "metadata": {
  "kernelspec": {
   "display_name": "Python 3 (ipykernel)",
   "language": "python",
   "name": "python3"
  },
  "language_info": {
   "codemirror_mode": {
    "name": "ipython",
    "version": 3
   },
   "file_extension": ".py",
   "mimetype": "text/x-python",
   "name": "python",
   "nbconvert_exporter": "python",
   "pygments_lexer": "ipython3",
   "version": "3.8.8"
  }
 },
 "nbformat": 4,
 "nbformat_minor": 5
}
