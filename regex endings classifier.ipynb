{
 "cells": [
  {
   "cell_type": "code",
   "execution_count": 40,
   "id": "05d137e8-8314-44ef-a51a-80f109579fd0",
   "metadata": {},
   "outputs": [],
   "source": [
    "from read_data import read_data_sets\n",
    "import re\n",
    "from numpy.random import choice\n",
    "import numpy as np"
   ]
  },
  {
   "cell_type": "code",
   "execution_count": 2,
   "id": "04ba0241-3f26-4a8d-97d3-5e91bca265d9",
   "metadata": {},
   "outputs": [],
   "source": [
    "dataset = read_data_sets()"
   ]
  },
  {
   "cell_type": "code",
   "execution_count": 5,
   "id": "b12c2e36-b0ac-4d49-81df-d501ed99ab47",
   "metadata": {},
   "outputs": [
    {
     "data": {
      "text/plain": [
       "(259931, 3)"
      ]
     },
     "execution_count": 5,
     "metadata": {},
     "output_type": "execute_result"
    }
   ],
   "source": [
    "dataset.train.genders.shape"
   ]
  },
  {
   "cell_type": "code",
   "execution_count": 9,
   "id": "7f30556d-980c-4d32-b1c2-916c732610bc",
   "metadata": {},
   "outputs": [],
   "source": [
    "train = dataset.train\n",
    "val = dataset.validation"
   ]
  },
  {
   "cell_type": "code",
   "execution_count": 21,
   "id": "84b9d1d7-eade-4400-9cf5-a2582a149943",
   "metadata": {},
   "outputs": [],
   "source": [
    "m_prob = train.genders[:, 0].sum() / train.genders.shape[0]\n",
    "f_prob = train.genders[:, 1].sum() / train.genders.shape[0]\n",
    "n_prob = train.genders[:, 2].sum() / train.genders.shape[0]\n",
    "gender_probs = [m_prob, f_prob, n_prob]"
   ]
  },
  {
   "cell_type": "code",
   "execution_count": 60,
   "id": "b08492a9-17dc-412f-9e03-3c7070186aa2",
   "metadata": {},
   "outputs": [],
   "source": [
    "def make_prediction(words, probs = [0.3500313544748414, 0.4394012257098999, 0.21056741981525867]):\n",
    "    # probs calculated on the train set from deep-german data \n",
    "    noun_endings = {\n",
    "    \"masculine\": [\"ant\", \"ast\", \"er\", \"ich\", \"eich\",\n",
    "                  \"ig\", \"eig\", \"ling\", \"or\", \"us\", \"ismus\"],\n",
    "    \"feminine\": [\"anz\", \"e\", \"ei\", \"enz\", \"heit\", \"ie\", \"ik\", \"keit\",\n",
    "                 \"schaft\", \"sion\", \"sis\", \"tion\", \"tät\", \"ung\", \"ur\"],\n",
    "    \"neutral\": [\"chen\", \"lein\", \"en\", \"il\", \"ing\",\n",
    "                \"ma\", \"ment\", \"nis\", \"tum\", \"um\", ]\n",
    "}\n",
    "    \n",
    "    res = np.zeros([len(words), 3])\n",
    "    hits = 0\n",
    "    for i, word in enumerate(words):\n",
    "        found = -1\n",
    "        for g in noun_endings:\n",
    "            if found != -1:\n",
    "                break\n",
    "            for end in noun_endings[g]:\n",
    "                end = end + '$'\n",
    "                if re.search(end, word):\n",
    "                    if g == \"masculine\":\n",
    "                        found = 0\n",
    "                    elif g == \"feminine\":\n",
    "                        found = 1\n",
    "                    else:\n",
    "                        found = 2\n",
    "                    break\n",
    "        if found != -1:\n",
    "            res[i, found] = 1\n",
    "            hits += 1\n",
    "        else:\n",
    "            res[i, choice([0,1,2], 1, p=probs)[0]] = 1\n",
    "    return res, hits / len(words)"
   ]
  },
  {
   "cell_type": "code",
   "execution_count": 61,
   "id": "7f192c1c-7909-4e84-a29a-ed5aa6097e8a",
   "metadata": {},
   "outputs": [],
   "source": [
    "pred, hit_percentage = make_prediction(train.words, gender_probs)"
   ]
  },
  {
   "cell_type": "code",
   "execution_count": 66,
   "id": "288206d9-73a2-4271-b461-d899ebf0c271",
   "metadata": {},
   "outputs": [
    {
     "data": {
      "text/plain": [
       "0.6534965048416695"
      ]
     },
     "execution_count": 66,
     "metadata": {},
     "output_type": "execute_result"
    }
   ],
   "source": [
    "acc = np.sum(pred * train.genders) / len(train.genders)\n",
    "acc"
   ]
  },
  {
   "cell_type": "code",
   "execution_count": 63,
   "id": "cba1aa25-c6f4-4e23-9937-85445ff760c2",
   "metadata": {},
   "outputs": [
    {
     "data": {
      "text/plain": [
       "0.5928958069641559"
      ]
     },
     "execution_count": 63,
     "metadata": {},
     "output_type": "execute_result"
    }
   ],
   "source": [
    "hit_percentage"
   ]
  },
  {
   "cell_type": "code",
   "execution_count": null,
   "id": "f2b67c44-4fc6-4994-bf3a-d7ef2ffe9dd4",
   "metadata": {},
   "outputs": [],
   "source": []
  }
 ],
 "metadata": {
  "kernelspec": {
   "display_name": "Python 3 (ipykernel)",
   "language": "python",
   "name": "python3"
  },
  "language_info": {
   "codemirror_mode": {
    "name": "ipython",
    "version": 3
   },
   "file_extension": ".py",
   "mimetype": "text/x-python",
   "name": "python",
   "nbconvert_exporter": "python",
   "pygments_lexer": "ipython3",
   "version": "3.8.8"
  }
 },
 "nbformat": 4,
 "nbformat_minor": 5
}
